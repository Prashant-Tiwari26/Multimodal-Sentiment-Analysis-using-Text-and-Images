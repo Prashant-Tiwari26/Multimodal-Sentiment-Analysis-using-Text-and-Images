{
 "cells": [
  {
   "cell_type": "code",
   "execution_count": 1,
   "metadata": {},
   "outputs": [],
   "source": [
    "import os\n",
    "import cv2\n",
    "import numpy as np\n",
    "import pandas as pd\n"
   ]
  },
  {
   "cell_type": "code",
   "execution_count": 7,
   "metadata": {},
   "outputs": [],
   "source": [
    "# Define the root directory containing the folders with images\n",
    "root_directory = r\"C:\\Users\\gulat\\ML DL Projects\\MMDP\\Multimodal-Sentiment-Analysis-using-Text-and-Images\\Data\\Images\"\n",
    "# Define the labels corresponding to the folder names\n",
    "labels = ['Negative', 'Neutral', 'positive']  # Updated label order\n"
   ]
  },
  {
   "cell_type": "code",
   "execution_count": 8,
   "metadata": {},
   "outputs": [],
   "source": [
    "# Initialize lists to store data\n",
    "data = []\n",
    "labels_list = []"
   ]
  },
  {
   "cell_type": "code",
   "execution_count": 9,
   "metadata": {},
   "outputs": [],
   "source": [
    "for label_id, label in enumerate(labels):\n",
    "    folder_path = os.path.join(root_directory, label)\n",
    "    \n",
    "    # Loop through the images in each folder\n",
    "    for filename in os.listdir(folder_path):\n",
    "        image_path = os.path.join(folder_path, filename)\n",
    "        \n",
    "        # Load and resize the image to 28x28 pixels\n",
    "        image = cv2.imread(image_path, cv2.IMREAD_GRAYSCALE)\n",
    "        image = cv2.resize(image, (28, 28))\n",
    "        \n",
    "        # Flatten the 2D image array into a 1D array\n",
    "        image_flat = image.flatten()\n",
    "        \n",
    "        # Append the data and label to the lists\n",
    "        data.append(image_flat)\n",
    "        labels_list.append(label_id)"
   ]
  },
  {
   "cell_type": "code",
   "execution_count": 10,
   "metadata": {},
   "outputs": [],
   "source": [
    "# Create a Pandas DataFrame from the data and labels\n",
    "df = pd.DataFrame(data)\n",
    "df['label'] = labels_list"
   ]
  },
  {
   "cell_type": "code",
   "execution_count": 11,
   "metadata": {},
   "outputs": [],
   "source": [
    "# Save the DataFrame to a CSV file\n",
    "csv_filename = 'image_data.csv'\n",
    "df.to_csv(csv_filename, index=False)"
   ]
  }
 ],
 "metadata": {
  "kernelspec": {
   "display_name": "Python 3 (ipykernel)",
   "language": "python",
   "name": "python3"
  },
  "orig_nbformat": 4
 },
 "nbformat": 4,
 "nbformat_minor": 2
}
