{
 "cells": [
  {
   "cell_type": "code",
   "execution_count": null,
   "metadata": {},
   "outputs": [],
   "source": [
    "import numpy as np\n",
    "import sys\n",
    "sys.path.append(\"../\")"
   ]
  },
  {
   "cell_type": "code",
   "execution_count": null,
   "metadata": {},
   "outputs": [],
   "source": [
    "from Utils.CustomFunctions import Train_Classifiers"
   ]
  },
  {
   "cell_type": "markdown",
   "metadata": {},
   "source": [
    "# Classic ML"
   ]
  },
  {
   "cell_type": "code",
   "execution_count": null,
   "metadata": {},
   "outputs": [],
   "source": [
    "x = np.load(\"../Data/Images/Image Embeddings/EfficientNet.npy\")\n",
    "y = np.load(\"../Data/Text/TF-IDF/labels.npy\")"
   ]
  },
  {
   "cell_type": "code",
   "execution_count": null,
   "metadata": {},
   "outputs": [],
   "source": [
    "models = Train_Classifiers(x, y)"
   ]
  },
  {
   "cell_type": "code",
   "execution_count": null,
   "metadata": {},
   "outputs": [],
   "source": [
    "models.fit()"
   ]
  },
  {
   "cell_type": "code",
   "execution_count": null,
   "metadata": {},
   "outputs": [],
   "source": [
    "models.score()"
   ]
  },
  {
   "cell_type": "code",
   "execution_count": null,
   "metadata": {},
   "outputs": [],
   "source": [
    "models.Compare_ConfusionMatrices()"
   ]
  },
  {
   "cell_type": "code",
   "execution_count": null,
   "metadata": {},
   "outputs": [],
   "source": [
    "models.Compare_Performance()"
   ]
  },
  {
   "cell_type": "code",
   "execution_count": null,
   "metadata": {},
   "outputs": [],
   "source": [
    "lgbm = models.get_single_model('LightGBM')"
   ]
  },
  {
   "cell_type": "code",
   "execution_count": null,
   "metadata": {},
   "outputs": [],
   "source": [
    "lgbm.predict_proba(x).shape"
   ]
  },
  {
   "cell_type": "markdown",
   "metadata": {},
   "source": [
    "# CNN"
   ]
  },
  {
   "cell_type": "code",
   "execution_count": 1,
   "metadata": {},
   "outputs": [],
   "source": [
    "from torchvision.models.efficientnet import efficientnet_b1, EfficientNet_B1_Weights, efficientnet_v2_s, EfficientNet_V2_S_Weights\n",
    "import torch\n",
    "import numpy as np\n",
    "from sklearn.model_selection import train_test_split\n",
    "import pandas as pd"
   ]
  },
  {
   "cell_type": "code",
   "execution_count": 2,
   "metadata": {},
   "outputs": [],
   "source": [
    "data = pd.read_csv(\"../Data/Images/ImageLabelsSequenced.csv\")"
   ]
  },
  {
   "cell_type": "code",
   "execution_count": 3,
   "metadata": {},
   "outputs": [],
   "source": [
    "weights = EfficientNet_V2_S_Weights.IMAGENET1K_V1\n",
    "model = efficientnet_v2_s(weights=weights)"
   ]
  },
  {
   "cell_type": "code",
   "execution_count": 4,
   "metadata": {},
   "outputs": [],
   "source": [
    "num_classes = 3\n",
    "    \n",
    "model.classifier = torch.nn.Sequential(\n",
    "    torch.nn.Dropout(p=0.2),\n",
    "    torch.nn.ReLU(),\n",
    "    torch.nn.Linear(in_features=1280, out_features=num_classes)\n",
    ")"
   ]
  },
  {
   "cell_type": "code",
   "execution_count": 5,
   "metadata": {},
   "outputs": [],
   "source": [
    "loss_fn = torch.nn.CrossEntropyLoss()\n",
    "optimizer = torch.optim.NAdam(model.parameters())\n",
    "scheduler = torch.optim.lr_scheduler.ReduceLROnPlateau(optimizer, 'min', 0.4, 8)"
   ]
  },
  {
   "cell_type": "code",
   "execution_count": 6,
   "metadata": {},
   "outputs": [],
   "source": [
    "train, test = train_test_split(data, test_size=0.2, shuffle=True, stratify=data['LABEL'])\n",
    "train, val = train_test_split(train, test_size=0.2, shuffle=True, stratify=train['LABEL'])"
   ]
  },
  {
   "cell_type": "code",
   "execution_count": 7,
   "metadata": {},
   "outputs": [],
   "source": [
    "from torch.utils.data import DataLoader, Dataset\n",
    "import os\n",
    "from PIL import Image\n",
    "class CustomImageDataset(Dataset):\n",
    "    def __init__(self, img_dir, filename, labels, transform) -> None:\n",
    "        super().__init__()\n",
    "        self.img_dir = img_dir\n",
    "        self.filename = filename\n",
    "        self.labels = labels\n",
    "        self.transform = transform\n",
    "\n",
    "    def __len__(self):\n",
    "        return len(self.labels)\n",
    "    \n",
    "    def __getitem__(self, index):\n",
    "        img_path = os.path.join(self.img_dir, self.filename[index])\n",
    "        image = Image.open(img_path)\n",
    "        image = image.convert(\"RGB\")\n",
    "        image = self.transform(image)\n",
    "        label = torch.tensor(self.labels[index])\n",
    "        return (image, label)\n",
    "    \n",
    "train_set = CustomImageDataset(\"../Data/Images\", np.array(train['File Name']), np.array(train['LABEL']), weights.transforms())\n",
    "val_set = CustomImageDataset(\"../Data/Images\", np.array(val['File Name']), np.array(val['LABEL']), weights.transforms())"
   ]
  },
  {
   "cell_type": "code",
   "execution_count": 8,
   "metadata": {},
   "outputs": [],
   "source": [
    "train_loader = DataLoader(train_set, 16)\n",
    "val_loader = DataLoader(val_set, 16)"
   ]
  },
  {
   "cell_type": "code",
   "execution_count": 9,
   "metadata": {},
   "outputs": [],
   "source": [
    "from tqdm.notebook import tqdm\n",
    "def TrainLoopCompact(\n",
    "    model,\n",
    "    optimizer:torch.optim.Optimizer,\n",
    "    criterion:torch.nn.Module,\n",
    "    train_dataloader:torch.utils.data.DataLoader,\n",
    "    val_dataloader:torch.utils.data.DataLoader,\n",
    "    scheduler:torch.optim.lr_scheduler.ReduceLROnPlateau,\n",
    "    num_epochs:int=20,\n",
    "    early_stopping_rounds:int=5,\n",
    "    return_best_model:bool=True,\n",
    "    device:str='cpu'\n",
    "):\n",
    "    model.to(device)\n",
    "    best_val_loss = float('inf')\n",
    "    epochs_without_improvement = 0\n",
    "    best_model_weights = model.state_dict()\n",
    "\n",
    "    for epoch in tqdm(range(num_epochs)):\n",
    "        model.train()\n",
    "        print(\"\\nEpoch {}\\n----------\".format(epoch))\n",
    "        train_loss = 0\n",
    "        for i, (images, labels) in enumerate(train_dataloader):\n",
    "            images = images.to(device)\n",
    "            labels = labels.to(device, dtype=torch.long)\n",
    "            optimizer.zero_grad()\n",
    "            outputs = model(images)\n",
    "            loss = criterion(outputs, labels)\n",
    "            train_loss += loss\n",
    "            loss.backward()\n",
    "            optimizer.step()\n",
    "            print(\"Loss for batch {} = {}\".format(i, loss))\n",
    "\n",
    "        print(\"\\nTraining Loss for epoch {} = {}\\n\".format(epoch, train_loss))\n",
    "\n",
    "        model.eval()\n",
    "        validation_loss = 0\n",
    "        with torch.inference_mode():\n",
    "            for (images, labels) in val_dataloader:\n",
    "                images = images.to(device)\n",
    "                labels = labels.to(device, dtype=torch.long)\n",
    "                outputs = model(images)\n",
    "                loss = criterion(outputs, labels)\n",
    "                validation_loss += loss\n",
    "\n",
    "            if validation_loss < best_val_loss:\n",
    "                best_val_loss = validation_loss\n",
    "                epochs_without_improvement = 0\n",
    "                best_model_weights = model.state_dict()\n",
    "            else:\n",
    "                epochs_without_improvement += 1\n",
    "\n",
    "            print(f\"Current Validation Loss = {validation_loss}\")\n",
    "            print(f\"Best Validation Loss = {best_val_loss}\")\n",
    "            print(f\"Epochs without Improvement = {epochs_without_improvement}\")\n",
    "        scheduler.step(validation_loss)\n",
    "        if epochs_without_improvement == early_stopping_rounds:\n",
    "            break\n",
    "\n",
    "    if return_best_model == True:\n",
    "        model.load_state_dict(best_model_weights)"
   ]
  },
  {
   "cell_type": "code",
   "execution_count": null,
   "metadata": {},
   "outputs": [],
   "source": [
    "TrainLoopCompact(model, optimizer, loss_fn, train_loader, val_loader, scheduler, 100, 15, device='cuda')"
   ]
  }
 ],
 "metadata": {
  "kernelspec": {
   "display_name": ".venv",
   "language": "python",
   "name": "python3"
  },
  "language_info": {
   "codemirror_mode": {
    "name": "ipython",
    "version": 3
   },
   "file_extension": ".py",
   "mimetype": "text/x-python",
   "name": "python",
   "nbconvert_exporter": "python",
   "pygments_lexer": "ipython3",
   "version": "3.10.11"
  }
 },
 "nbformat": 4,
 "nbformat_minor": 2
}
